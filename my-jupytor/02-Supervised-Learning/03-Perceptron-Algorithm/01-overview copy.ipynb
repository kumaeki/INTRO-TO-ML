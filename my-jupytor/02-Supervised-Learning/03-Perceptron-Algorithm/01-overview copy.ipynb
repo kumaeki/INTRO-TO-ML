{
 "cells": [
  {
   "cell_type": "markdown",
   "id": "8c7231be",
   "metadata": {},
   "source": [
    "# Classification Algorithms\n",
    "\n",
    "Classification Algorithm are those that answer questions that have answers, yes or no.\n",
    "\n",
    "For example, is ths email spam or not?\n",
    "\n",
    "The First one of these algorithms is the Perceptron Algorithm\n",
    "\n",
    "At a high level, this lesson focus on the idea of a perceptron, is a node that accepts various input and ultimately produces a signle output.\n",
    "\n",
    "The inputs can represent the many dimensions of the dataset.\n",
    "\n",
    "All of these inputs are them plotted as a point in a graph to see whether the points is plotted in the positive area.\n",
    "\n",
    "If so, the output is YES, otherwise is NO."
   ]
  }
 ],
 "metadata": {
  "kernelspec": {
   "display_name": "Python 3.8.13 ('base')",
   "language": "python",
   "name": "python3"
  },
  "language_info": {
   "codemirror_mode": {
    "name": "ipython",
    "version": 3
   },
   "file_extension": ".py",
   "mimetype": "text/x-python",
   "name": "python",
   "nbconvert_exporter": "python",
   "pygments_lexer": "ipython3",
   "version": "3.8.13"
  },
  "vscode": {
   "interpreter": {
    "hash": "303fa613b6f3e1efefe7bb28036e305e1021fa6bdb083a5f9fd57f9d9bbad8eb"
   }
  }
 },
 "nbformat": 4,
 "nbformat_minor": 5
}
