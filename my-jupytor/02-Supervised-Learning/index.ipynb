{
 "cells": [
  {
   "cell_type": "markdown",
   "id": "a42c26d4",
   "metadata": {},
   "source": [
    "[back to main menu](..)"
   ]
  },
  {
   "cell_type": "markdown",
   "id": "a9e04416",
   "metadata": {},
   "source": [
    "[Introduction to Supervised](./01/Introduction.ipynb)"
   ]
  }
 ],
 "metadata": {
  "kernelspec": {
   "display_name": "Python [conda env:root] *",
   "language": "python",
   "name": "conda-root-py"
  },
  "language_info": {
   "codemirror_mode": {
    "name": "ipython",
    "version": 3
   },
   "file_extension": ".py",
   "mimetype": "text/x-python",
   "name": "python",
   "nbconvert_exporter": "python",
   "pygments_lexer": "ipython3",
   "version": "3.8.13"
  }
 },
 "nbformat": 4,
 "nbformat_minor": 5
}
