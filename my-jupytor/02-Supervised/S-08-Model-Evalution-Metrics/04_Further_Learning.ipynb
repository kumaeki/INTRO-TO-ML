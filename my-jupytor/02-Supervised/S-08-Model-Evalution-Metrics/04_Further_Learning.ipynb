{
 "cells": [
  {
   "cell_type": "markdown",
   "id": "d40b11a7",
   "metadata": {},
   "source": [
    "# Further Learning\n",
    "- A confusion matrix, also known as an error matrix, is an important component of classification when using machine learning. You can read this Wikipedia article on [confusion matrices](https://en.wikipedia.org/wiki/Confusion_matrix) for examples and more information.\n",
    "- [Classification metrics from Stanford's CS229 notes](https://stanford.edu/~shervine/teaching/cs-229/cheatsheet-machine-learning-tips-and-tricks).\n",
    "  - Afshine Amidi and Shervine Amidi discuss machine learning tips and tricks, including classification and regression metrics."
   ]
  }
 ],
 "metadata": {
  "kernelspec": {
   "display_name": "Python [conda env:root] *",
   "language": "python",
   "name": "conda-root-py"
  },
  "language_info": {
   "codemirror_mode": {
    "name": "ipython",
    "version": 3
   },
   "file_extension": ".py",
   "mimetype": "text/x-python",
   "name": "python",
   "nbconvert_exporter": "python",
   "pygments_lexer": "ipython3",
   "version": "3.8.13"
  }
 },
 "nbformat": 4,
 "nbformat_minor": 5
}
