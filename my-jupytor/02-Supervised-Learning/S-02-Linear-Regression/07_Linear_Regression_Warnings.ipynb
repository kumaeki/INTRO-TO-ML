{
 "cells": [
  {
   "cell_type": "markdown",
   "id": "62da287f",
   "metadata": {},
   "source": [
    "## Linear Regression Warnings\n",
    "\n",
    "Linear Regression comes with a set of implicit assumptions and is not the best model for every situation.\n",
    "\n",
    "Here are a couple of issues that you should watch out for\n",
    "\n",
    "### Linear Regression works best when the data is linear\n",
    "If the relationship in the training data is not realy linear, you will need to either make adjustments *(transform your training data)* and features, or use another kind of model\n",
    "\n",
    "### Linear Regression is sensitive to outliers\n",
    "Linear Regression tries to find a best fit line among the training data. \n",
    "\n",
    "If your dataset has some outlying extreme values that don't fit a general pattern, they can have a surprisingly large effect."
   ]
  }
 ],
 "metadata": {
  "kernelspec": {
   "display_name": "Python 3 (ipykernel)",
   "language": "python",
   "name": "python3"
  },
  "language_info": {
   "codemirror_mode": {
    "name": "ipython",
    "version": 3
   },
   "file_extension": ".py",
   "mimetype": "text/x-python",
   "name": "python",
   "nbconvert_exporter": "python",
   "pygments_lexer": "ipython3",
   "version": "3.8.13"
  },
  "vscode": {
   "interpreter": {
    "hash": "303fa613b6f3e1efefe7bb28036e305e1021fa6bdb083a5f9fd57f9d9bbad8eb"
   }
  }
 },
 "nbformat": 4,
 "nbformat_minor": 5
}
