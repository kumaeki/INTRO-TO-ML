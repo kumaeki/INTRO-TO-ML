{
 "cells": [
  {
   "cell_type": "markdown",
   "id": "8ededde5",
   "metadata": {},
   "source": [
    "- install the Anaconda\n",
    "\n",
    "  confirm the version of conda\n",
    "  ```\n",
    "  conda --version\n",
    "  ```\n",
    "  update all packages\n",
    "  ```\n",
    "  conda upgrade conda\n",
    "  conda upgrade --all\n",
    "  ```\n",
    "  install the necessary package\n",
    "  ```\n",
    "  conda install numpy scipy pandas\n",
    "  ```\n",
    "  \n",
    "- install the Python 3 within Anaconda\n",
    "  \n",
    "  confirm the version of Python\n",
    "  ```\n",
    "  python --version\n",
    "  ```\n",
    "  \n",
    "  \n",
    "- install Jupyter Notebook\n",
    "\n",
    "  ```\n",
    "  python --version\n",
    "  conda --version\n",
    "  \n",
    "  conda install jupyter notebook\n",
    "  conda install -c conda-forge notebook\n",
    "  ```\n",
    "  run the notebook\n",
    "  ```\n",
    "  jupyter notebook\n",
    "  ```"
   ]
  }
 ],
 "metadata": {
  "kernelspec": {
   "display_name": "Python [conda env:root] *",
   "language": "python",
   "name": "conda-root-py"
  },
  "language_info": {
   "codemirror_mode": {
    "name": "ipython",
    "version": 3
   },
   "file_extension": ".py",
   "mimetype": "text/x-python",
   "name": "python",
   "nbconvert_exporter": "python",
   "pygments_lexer": "ipython3",
   "version": "3.8.13"
  }
 },
 "nbformat": 4,
 "nbformat_minor": 5
}
