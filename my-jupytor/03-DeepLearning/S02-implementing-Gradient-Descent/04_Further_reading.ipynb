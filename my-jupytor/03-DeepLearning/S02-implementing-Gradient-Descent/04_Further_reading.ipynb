{
 "cells": [
  {
   "cell_type": "markdown",
   "id": "ee8ad2ea",
   "metadata": {},
   "source": [
    "Backpropagation is fundamental to deep learning. TensorFlow and other libraries will perform the backprop for you, \n",
    "\n",
    "- [Yes, you should understand backprop](https://karpathy.medium.com/yes-you-should-understand-backprop-e2f06eab496b#.vt3ax2kg9)\n",
    "- [a lecture from Stanford's CS231n course](https://www.youtube.com/watch?v=59Hbtz7XgjM)"
   ]
  }
 ],
 "metadata": {
  "kernelspec": {
   "display_name": "Python [conda env:root] *",
   "language": "python",
   "name": "conda-root-py"
  },
  "language_info": {
   "codemirror_mode": {
    "name": "ipython",
    "version": 3
   },
   "file_extension": ".py",
   "mimetype": "text/x-python",
   "name": "python",
   "nbconvert_exporter": "python",
   "pygments_lexer": "ipython3",
   "version": "3.8.13"
  }
 },
 "nbformat": 4,
 "nbformat_minor": 5
}
