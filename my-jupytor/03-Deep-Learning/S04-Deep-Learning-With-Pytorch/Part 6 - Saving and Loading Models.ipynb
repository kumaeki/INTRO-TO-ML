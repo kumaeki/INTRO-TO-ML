{
 "cells": [
  {
   "cell_type": "markdown",
   "metadata": {},
   "source": [
    "# Saving and Loading Models\n",
    "\n",
    "In this notebook, I'll show you how to save and load models with PyTorch. This is important because you'll often want to load previously trained models to use in making predictions or to continue training on new data."
   ]
  },
  {
   "cell_type": "code",
   "execution_count": 1,
   "metadata": {},
   "outputs": [],
   "source": [
    "%matplotlib inline\n",
    "%config InlineBackend.figure_format = 'retina'\n",
    "\n",
    "import matplotlib.pyplot as plt\n",
    "\n",
    "import torch\n",
    "from torch import nn\n",
    "from torch import optim\n",
    "import torch.nn.functional as F\n",
    "from torchvision import datasets, transforms\n",
    "\n",
    "import helper\n",
    "import fc_model"
   ]
  },
  {
   "cell_type": "code",
   "execution_count": 2,
   "metadata": {},
   "outputs": [
    {
     "name": "stdout",
     "output_type": "stream",
     "text": [
      "Downloading http://fashion-mnist.s3-website.eu-central-1.amazonaws.com/train-images-idx3-ubyte.gz\n",
      "Downloading http://fashion-mnist.s3-website.eu-central-1.amazonaws.com/train-images-idx3-ubyte.gz to F_MNIST_data/FashionMNIST\\raw\\train-images-idx3-ubyte.gz\n"
     ]
    },
    {
     "data": {
      "application/vnd.jupyter.widget-view+json": {
       "model_id": "5d1d30198986490cbfad7c5babd26c56",
       "version_major": 2,
       "version_minor": 0
      },
      "text/plain": [
       "  0%|          | 0/26421880 [00:00<?, ?it/s]"
      ]
     },
     "metadata": {},
     "output_type": "display_data"
    },
    {
     "name": "stdout",
     "output_type": "stream",
     "text": [
      "Extracting F_MNIST_data/FashionMNIST\\raw\\train-images-idx3-ubyte.gz to F_MNIST_data/FashionMNIST\\raw\n",
      "\n",
      "Downloading http://fashion-mnist.s3-website.eu-central-1.amazonaws.com/train-labels-idx1-ubyte.gz\n",
      "Downloading http://fashion-mnist.s3-website.eu-central-1.amazonaws.com/train-labels-idx1-ubyte.gz to F_MNIST_data/FashionMNIST\\raw\\train-labels-idx1-ubyte.gz\n"
     ]
    },
    {
     "data": {
      "application/vnd.jupyter.widget-view+json": {
       "model_id": "3a501c311dd440148955ee8533e00df4",
       "version_major": 2,
       "version_minor": 0
      },
      "text/plain": [
       "  0%|          | 0/29515 [00:00<?, ?it/s]"
      ]
     },
     "metadata": {},
     "output_type": "display_data"
    },
    {
     "name": "stdout",
     "output_type": "stream",
     "text": [
      "Extracting F_MNIST_data/FashionMNIST\\raw\\train-labels-idx1-ubyte.gz to F_MNIST_data/FashionMNIST\\raw\n",
      "\n",
      "Downloading http://fashion-mnist.s3-website.eu-central-1.amazonaws.com/t10k-images-idx3-ubyte.gz\n",
      "Downloading http://fashion-mnist.s3-website.eu-central-1.amazonaws.com/t10k-images-idx3-ubyte.gz to F_MNIST_data/FashionMNIST\\raw\\t10k-images-idx3-ubyte.gz\n"
     ]
    },
    {
     "data": {
      "application/vnd.jupyter.widget-view+json": {
       "model_id": "597531b187b6495f85f7ee5e65fc1143",
       "version_major": 2,
       "version_minor": 0
      },
      "text/plain": [
       "  0%|          | 0/4422102 [00:00<?, ?it/s]"
      ]
     },
     "metadata": {},
     "output_type": "display_data"
    },
    {
     "name": "stdout",
     "output_type": "stream",
     "text": [
      "Extracting F_MNIST_data/FashionMNIST\\raw\\t10k-images-idx3-ubyte.gz to F_MNIST_data/FashionMNIST\\raw\n",
      "\n",
      "Downloading http://fashion-mnist.s3-website.eu-central-1.amazonaws.com/t10k-labels-idx1-ubyte.gz\n",
      "Downloading http://fashion-mnist.s3-website.eu-central-1.amazonaws.com/t10k-labels-idx1-ubyte.gz to F_MNIST_data/FashionMNIST\\raw\\t10k-labels-idx1-ubyte.gz\n"
     ]
    },
    {
     "data": {
      "application/vnd.jupyter.widget-view+json": {
       "model_id": "7c12ec7f8b7b4a09883050b9605b9a9f",
       "version_major": 2,
       "version_minor": 0
      },
      "text/plain": [
       "  0%|          | 0/5148 [00:00<?, ?it/s]"
      ]
     },
     "metadata": {},
     "output_type": "display_data"
    },
    {
     "name": "stdout",
     "output_type": "stream",
     "text": [
      "Extracting F_MNIST_data/FashionMNIST\\raw\\t10k-labels-idx1-ubyte.gz to F_MNIST_data/FashionMNIST\\raw\n",
      "\n"
     ]
    }
   ],
   "source": [
    "# Define a transform to normalize the data\n",
    "transform = transforms.Compose([transforms.ToTensor(),\n",
    "                                transforms.Normalize((0.5,), (0.5,))])\n",
    "# Download and load the training data\n",
    "trainset = datasets.FashionMNIST('F_MNIST_data/', download=True, train=True, transform=transform)\n",
    "trainloader = torch.utils.data.DataLoader(trainset, batch_size=64, shuffle=True)\n",
    "\n",
    "# Download and load the test data\n",
    "testset = datasets.FashionMNIST('F_MNIST_data/', download=True, train=False, transform=transform)\n",
    "testloader = torch.utils.data.DataLoader(testset, batch_size=64, shuffle=True)"
   ]
  },
  {
   "cell_type": "markdown",
   "metadata": {},
   "source": [
    "Here we can see one of the images."
   ]
  },
  {
   "cell_type": "code",
   "execution_count": 3,
   "metadata": {},
   "outputs": [
    {
     "data": {
      "image/png": "[encoded data removed]",
      "text/plain": [
       "<Figure size 640x480 with 1 Axes>"
      ]
     },
     "metadata": {
      "image/png": {
       "height": 389,
       "width": 389
      }
     },
     "output_type": "display_data"
    }
   ],
   "source": [
    "image, label = next(iter(trainloader))\n",
    "helper.imshow(image[0,:]);"
   ]
  },
  {
   "cell_type": "markdown",
   "metadata": {},
   "source": [
    "# Train a network\n",
    "\n",
    "To make things more concise here, I moved the model architecture and training code from the last part to a file called `fc_model`. Importing this, we can easily create a fully-connected network with `fc_model.Network`, and train the network using `fc_model.train`. I'll use this model (once it's trained) to demonstrate how we can save and load models."
   ]
  },
  {
   "cell_type": "code",
   "execution_count": 4,
   "metadata": {},
   "outputs": [],
   "source": [
    "# Create the network, define the criterion and optimizer\n",
    "\n",
    "model = fc_model.Network(784, 10, [512, 256, 128])\n",
    "criterion = nn.NLLLoss()\n",
    "optimizer = optim.Adam(model.parameters(), lr=0.001)"
   ]
  },
  {
   "cell_type": "code",
   "execution_count": 5,
   "metadata": {},
   "outputs": [
    {
     "name": "stdout",
     "output_type": "stream",
     "text": [
      "Epoch: 1/2..  Training Loss: 1.716..  Test Loss: 0.969..  Test Accuracy: 0.647\n",
      "Epoch: 1/2..  Training Loss: 1.022..  Test Loss: 0.748..  Test Accuracy: 0.708\n",
      "Epoch: 1/2..  Training Loss: 0.848..  Test Loss: 0.651..  Test Accuracy: 0.751\n",
      "Epoch: 1/2..  Training Loss: 0.797..  Test Loss: 0.636..  Test Accuracy: 0.763\n",
      "Epoch: 1/2..  Training Loss: 0.745..  Test Loss: 0.622..  Test Accuracy: 0.765\n",
      "Epoch: 1/2..  Training Loss: 0.723..  Test Loss: 0.620..  Test Accuracy: 0.769\n",
      "Epoch: 1/2..  Training Loss: 0.747..  Test Loss: 0.588..  Test Accuracy: 0.781\n",
      "Epoch: 1/2..  Training Loss: 0.694..  Test Loss: 0.553..  Test Accuracy: 0.794\n",
      "Epoch: 1/2..  Training Loss: 0.675..  Test Loss: 0.545..  Test Accuracy: 0.798\n",
      "Epoch: 1/2..  Training Loss: 0.625..  Test Loss: 0.554..  Test Accuracy: 0.793\n",
      "Epoch: 1/2..  Training Loss: 0.676..  Test Loss: 0.538..  Test Accuracy: 0.799\n",
      "Epoch: 1/2..  Training Loss: 0.631..  Test Loss: 0.521..  Test Accuracy: 0.810\n",
      "Epoch: 1/2..  Training Loss: 0.627..  Test Loss: 0.529..  Test Accuracy: 0.807\n",
      "Epoch: 1/2..  Training Loss: 0.596..  Test Loss: 0.507..  Test Accuracy: 0.813\n",
      "Epoch: 1/2..  Training Loss: 0.622..  Test Loss: 0.503..  Test Accuracy: 0.813\n",
      "Epoch: 1/2..  Training Loss: 0.608..  Test Loss: 0.489..  Test Accuracy: 0.819\n",
      "Epoch: 1/2..  Training Loss: 0.576..  Test Loss: 0.492..  Test Accuracy: 0.818\n",
      "Epoch: 1/2..  Training Loss: 0.584..  Test Loss: 0.489..  Test Accuracy: 0.823\n",
      "Epoch: 1/2..  Training Loss: 0.586..  Test Loss: 0.489..  Test Accuracy: 0.821\n",
      "Epoch: 1/2..  Training Loss: 0.533..  Test Loss: 0.494..  Test Accuracy: 0.816\n",
      "Epoch: 1/2..  Training Loss: 0.577..  Test Loss: 0.498..  Test Accuracy: 0.814\n",
      "Epoch: 1/2..  Training Loss: 0.581..  Test Loss: 0.474..  Test Accuracy: 0.824\n",
      "Epoch: 1/2..  Training Loss: 0.522..  Test Loss: 0.487..  Test Accuracy: 0.820\n",
      "Epoch: 2/2..  Training Loss: 0.583..  Test Loss: 0.493..  Test Accuracy: 0.818\n",
      "Epoch: 2/2..  Training Loss: 0.579..  Test Loss: 0.481..  Test Accuracy: 0.819\n",
      "Epoch: 2/2..  Training Loss: 0.576..  Test Loss: 0.469..  Test Accuracy: 0.826\n",
      "Epoch: 2/2..  Training Loss: 0.541..  Test Loss: 0.478..  Test Accuracy: 0.825\n",
      "Epoch: 2/2..  Training Loss: 0.551..  Test Loss: 0.474..  Test Accuracy: 0.825\n",
      "Epoch: 2/2..  Training Loss: 0.501..  Test Loss: 0.471..  Test Accuracy: 0.830\n",
      "Epoch: 2/2..  Training Loss: 0.579..  Test Loss: 0.472..  Test Accuracy: 0.826\n",
      "Epoch: 2/2..  Training Loss: 0.538..  Test Loss: 0.464..  Test Accuracy: 0.832\n",
      "Epoch: 2/2..  Training Loss: 0.533..  Test Loss: 0.468..  Test Accuracy: 0.832\n",
      "Epoch: 2/2..  Training Loss: 0.523..  Test Loss: 0.479..  Test Accuracy: 0.824\n",
      "Epoch: 2/2..  Training Loss: 0.495..  Test Loss: 0.480..  Test Accuracy: 0.825\n",
      "Epoch: 2/2..  Training Loss: 0.576..  Test Loss: 0.464..  Test Accuracy: 0.831\n",
      "Epoch: 2/2..  Training Loss: 0.525..  Test Loss: 0.456..  Test Accuracy: 0.837\n",
      "Epoch: 2/2..  Training Loss: 0.553..  Test Loss: 0.471..  Test Accuracy: 0.831\n",
      "Epoch: 2/2..  Training Loss: 0.537..  Test Loss: 0.444..  Test Accuracy: 0.839\n",
      "Epoch: 2/2..  Training Loss: 0.510..  Test Loss: 0.456..  Test Accuracy: 0.834\n",
      "Epoch: 2/2..  Training Loss: 0.501..  Test Loss: 0.445..  Test Accuracy: 0.842\n",
      "Epoch: 2/2..  Training Loss: 0.501..  Test Loss: 0.438..  Test Accuracy: 0.842\n",
      "Epoch: 2/2..  Training Loss: 0.536..  Test Loss: 0.450..  Test Accuracy: 0.835\n",
      "Epoch: 2/2..  Training Loss: 0.518..  Test Loss: 0.437..  Test Accuracy: 0.842\n",
      "Epoch: 2/2..  Training Loss: 0.525..  Test Loss: 0.463..  Test Accuracy: 0.831\n",
      "Epoch: 2/2..  Training Loss: 0.537..  Test Loss: 0.458..  Test Accuracy: 0.839\n",
      "Epoch: 2/2..  Training Loss: 0.495..  Test Loss: 0.453..  Test Accuracy: 0.835\n"
     ]
    }
   ],
   "source": [
    "fc_model.train(model, trainloader, testloader, criterion, optimizer, epochs=2)"
   ]
  },
  {
   "cell_type": "markdown",
   "metadata": {},
   "source": [
    "## Saving and loading networks\n",
    "\n",
    "As you can imagine, it's impractical to train a network every time you need to use it. Instead, we can save trained networks then load them later to train more or use them for predictions.\n",
    "\n",
    "The parameters for PyTorch networks are stored in a model's `state_dict`. We can see the state dict contains the weight and bias matrices for each of our layers."
   ]
  },
  {
   "cell_type": "code",
   "execution_count": 11,
   "metadata": {},
   "outputs": [
    {
     "name": "stdout",
     "output_type": "stream",
     "text": [
      "Our model: \n",
      "\n",
      " Network(\n",
      "  (hidden_layers): ModuleList(\n",
      "    (0): Linear(in_features=784, out_features=512, bias=True)\n",
      "    (1): Linear(in_features=512, out_features=256, bias=True)\n",
      "    (2): Linear(in_features=256, out_features=128, bias=True)\n",
      "  )\n",
      "  (output): Linear(in_features=128, out_features=10, bias=True)\n",
      "  (dropout): Dropout(p=0.5, inplace=False)\n",
      ") \n",
      "\n",
      "The state dict keys: \n",
      "\n",
      " odict_keys(['hidden_layers.0.weight', 'hidden_layers.0.bias', 'hidden_layers.1.weight', 'hidden_layers.1.bias', 'hidden_layers.2.weight', 'hidden_layers.2.bias', 'output.weight', 'output.bias'])\n",
      "The state dict keys: \n",
      "\n",
      " odict_values([tensor([[ 0.0508,  0.0250, -0.0029,  ...,  0.0279,  0.0563,  0.0144],\n",
      "        [-0.0014,  0.0336, -0.0013,  ...,  0.0293,  0.0215, -0.0132],\n",
      "        [-0.0054, -0.0087, -0.0175,  ...,  0.0224,  0.0131, -0.0207],\n",
      "        ...,\n",
      "        [ 0.0252,  0.0136, -0.0022,  ...,  0.0411,  0.0306,  0.0340],\n",
      "        [ 0.0140,  0.0105,  0.0522,  ..., -0.0006,  0.0504, -0.0100],\n",
      "        [-0.0169, -0.0233, -0.0244,  ..., -0.0252,  0.0087,  0.0403]]), tensor([ 6.8715e-03, -4.0336e-02,  1.5798e-02, -2.0996e-02, -5.4793e-02,\n",
      "        -1.0426e-02, -1.1459e-02, -2.3872e-03, -2.7364e-02, -7.5205e-03,\n",
      "        -1.1858e-02, -5.3550e-03, -1.9881e-03, -5.2097e-02, -4.6471e-02,\n",
      "        -5.2141e-02, -8.0018e-03, -4.3668e-03,  1.2492e-02,  1.4577e-02,\n",
      "        -2.4942e-02,  4.1169e-02, -2.0242e-02, -5.7808e-04, -5.9635e-02,\n",
      "        -1.9825e-04,  4.5502e-02, -4.8318e-02, -3.0906e-03, -3.6896e-02,\n",
      "        -2.2353e-03, -5.2360e-02, -1.7804e-02, -2.2944e-02, -5.3585e-03,\n",
      "         7.8593e-03,  2.8890e-02,  5.0453e-03,  1.2106e-02,  3.8098e-02,\n",
      "        -9.4652e-03,  1.6626e-02, -5.0941e-02, -3.1166e-02, -8.2586e-03,\n",
      "        -2.3831e-03, -2.3789e-02, -2.8128e-02, -8.8011e-03, -3.3095e-02,\n",
      "        -2.7080e-02, -1.2431e-02,  5.7974e-03, -4.0438e-02, -3.2529e-03,\n",
      "         4.6616e-02, -3.6442e-02, -4.7929e-03, -2.7783e-02, -1.9068e-02,\n",
      "        -5.2523e-02, -2.0315e-02, -3.8274e-02, -6.1533e-04, -1.2959e-02,\n",
      "        -4.7907e-02, -2.9927e-02,  2.4498e-02, -5.8611e-03, -4.2437e-03,\n",
      "        -2.5911e-02, -4.2388e-02, -4.0488e-02, -3.2191e-02, -1.5148e-02,\n",
      "         1.6680e-03,  2.0698e-02,  1.2112e-02, -6.6057e-04, -4.3181e-02,\n",
      "         1.4448e-02,  2.5122e-02, -6.6973e-02,  2.2738e-02, -3.6682e-03,\n",
      "        -3.6790e-02, -5.2469e-03,  1.8223e-02, -4.2475e-03,  7.2815e-03,\n",
      "        -1.0796e-02, -5.5613e-02, -5.1342e-03, -5.5801e-02, -3.3985e-03,\n",
      "         4.1685e-03,  9.6822e-03, -4.3587e-02, -3.3351e-02, -1.6155e-02,\n",
      "        -1.9932e-02, -8.2165e-04, -6.6409e-03, -2.3649e-02,  7.0860e-03,\n",
      "        -9.3101e-03, -4.4113e-02,  1.5295e-03, -1.3423e-02, -6.0368e-03,\n",
      "         1.9576e-02, -6.0288e-02, -1.3953e-02,  1.4116e-02,  1.6028e-02,\n",
      "         2.7101e-02, -1.5963e-02, -1.5251e-02, -5.0566e-02, -2.7104e-02,\n",
      "        -5.1967e-02,  1.2697e-02, -2.0785e-02, -5.1737e-03, -3.3157e-03,\n",
      "         2.3416e-02, -1.2803e-02, -5.6367e-02,  3.3159e-02, -7.6820e-03,\n",
      "         3.6620e-04, -5.2117e-02, -2.8577e-02, -1.5160e-02,  1.1289e-02,\n",
      "         5.8942e-03, -6.5227e-02, -2.7672e-02, -1.1578e-02, -2.5807e-02,\n",
      "        -1.9654e-02,  1.5796e-02, -3.3052e-02, -2.9713e-02, -4.7325e-02,\n",
      "         2.0230e-02,  1.3227e-02, -1.6308e-02, -4.1510e-02, -1.7370e-04,\n",
      "        -1.1875e-02,  1.5301e-02, -3.8765e-02, -6.0985e-02, -8.8653e-03,\n",
      "        -2.8317e-02,  7.2254e-03, -4.4464e-02,  1.4103e-02, -9.4673e-03,\n",
      "        -4.0216e-02, -2.6880e-02,  3.1881e-02, -3.0479e-02,  1.7453e-02,\n",
      "        -4.6092e-02, -5.6869e-03, -8.8767e-03, -4.8969e-02, -3.4236e-02,\n",
      "        -1.8232e-02, -1.7989e-02, -1.6976e-02, -1.2736e-02,  2.9505e-03,\n",
      "        -1.7721e-02, -5.3802e-02,  1.0376e-02,  2.3901e-02, -3.2184e-02,\n",
      "        -4.2715e-02, -3.6867e-02, -6.0324e-02,  2.0332e-02, -2.4318e-02,\n",
      "        -5.3255e-02,  1.3052e-02,  5.5290e-04, -2.8919e-02,  6.5256e-03,\n",
      "        -3.2583e-02, -4.3458e-02, -1.9951e-02, -4.8704e-02, -4.2976e-02,\n",
      "         4.7911e-03,  1.8875e-03, -1.8806e-02,  1.7270e-02,  1.7534e-02,\n",
      "         2.0631e-02,  2.1716e-02,  5.1690e-03,  1.0522e-02, -1.3460e-02,\n",
      "        -5.3682e-02, -1.0701e-02, -2.8933e-02, -5.2115e-02, -3.4253e-02,\n",
      "        -1.6732e-02, -3.1059e-02, -1.2621e-02, -3.9378e-02, -2.0010e-02,\n",
      "        -2.4688e-02, -2.9875e-02,  1.1086e-02, -4.7856e-03,  1.2602e-02,\n",
      "        -4.0543e-02,  3.3490e-03,  2.4721e-02, -1.6190e-02,  1.2443e-02,\n",
      "        -3.6442e-02, -5.1816e-02, -3.2418e-02, -6.6687e-02,  1.3531e-02,\n",
      "         1.3300e-02, -2.5904e-02,  2.1509e-02, -4.2057e-02, -4.2853e-02,\n",
      "        -5.2489e-03, -3.3019e-02, -4.4704e-02,  4.2220e-03,  1.6155e-02,\n",
      "         4.6744e-02, -8.2851e-02,  1.7532e-02, -4.6763e-02, -3.7830e-02,\n",
      "         1.3545e-02,  1.2980e-02, -1.3469e-02, -3.5348e-02, -2.0650e-02,\n",
      "        -7.2957e-04, -3.7312e-02, -1.7938e-02, -4.4474e-03, -3.9386e-02,\n",
      "         3.7352e-03,  2.3854e-03, -1.6381e-02, -2.2398e-02, -5.1520e-03,\n",
      "        -2.4456e-02, -4.5878e-02,  8.3811e-03, -9.7696e-03, -1.4798e-02,\n",
      "        -4.2319e-02, -1.0364e-02,  3.6042e-03,  2.7217e-02,  1.4783e-02,\n",
      "        -1.4365e-02,  5.6553e-03, -3.7942e-02, -2.9234e-02, -5.2497e-02,\n",
      "         2.4679e-02, -4.5517e-02, -8.4528e-03, -2.3228e-03, -5.5692e-02,\n",
      "        -6.3078e-03, -2.1324e-02,  2.1862e-02, -2.5574e-02,  1.9379e-02,\n",
      "        -2.6050e-02, -2.6089e-02, -2.6376e-02, -4.6579e-02, -2.6059e-02,\n",
      "         1.0494e-02, -1.5772e-02, -9.4051e-05, -2.1427e-02, -2.6662e-02,\n",
      "        -4.9285e-02, -2.3899e-02,  9.2053e-04, -2.3507e-02, -2.4096e-02,\n",
      "         5.7475e-03, -3.5739e-02, -2.1659e-02, -1.2585e-02, -2.5117e-02,\n",
      "        -3.7033e-02,  6.2213e-03, -3.8628e-02, -1.0477e-02, -3.9317e-02,\n",
      "        -4.3293e-02, -1.7924e-02,  1.3648e-02, -2.7301e-02, -8.1232e-04,\n",
      "        -2.4378e-02, -1.1496e-03, -4.2595e-02,  4.6194e-02, -3.0660e-02,\n",
      "        -2.4126e-02, -1.4041e-02, -4.4106e-02, -6.7486e-02, -3.8312e-02,\n",
      "        -4.9669e-02, -3.6620e-03, -1.4801e-02, -1.1566e-02,  3.1922e-03,\n",
      "        -2.7856e-02, -4.9451e-02, -7.0699e-03, -2.9008e-02, -5.6995e-02,\n",
      "        -2.1583e-02,  1.8979e-02, -3.8233e-02,  1.0285e-02, -2.0705e-02,\n",
      "        -4.6398e-02,  3.6104e-02,  2.1895e-02, -6.5440e-02,  1.5860e-02,\n",
      "        -5.0576e-02, -2.0092e-02, -4.7294e-02, -4.4630e-02, -2.9317e-02,\n",
      "        -1.6521e-02, -2.3984e-02,  2.6150e-02,  1.7592e-03, -5.3733e-02,\n",
      "        -2.0035e-02,  2.0404e-02,  2.6200e-02, -2.9767e-02, -3.1804e-02,\n",
      "        -4.4351e-02,  3.8867e-03,  2.0656e-02, -5.6509e-03, -3.4888e-02,\n",
      "        -2.7730e-02, -2.9199e-02, -1.3725e-02, -2.3476e-02, -6.7571e-02,\n",
      "        -2.8699e-02, -1.0005e-02, -2.9236e-02, -8.1782e-03, -5.2066e-02,\n",
      "        -3.3509e-02,  6.4228e-02, -2.6090e-02, -5.2742e-02, -4.0337e-02,\n",
      "        -1.5625e-03,  6.5560e-03, -3.9890e-02, -3.3375e-04,  1.5402e-02,\n",
      "        -2.2768e-02, -4.1995e-02, -4.8637e-02, -7.0769e-02, -6.1100e-02,\n",
      "         5.7207e-03, -2.9584e-02, -1.1134e-02, -2.9033e-03, -3.2578e-02,\n",
      "        -2.1654e-02,  2.7808e-03,  1.3518e-02, -9.8929e-03, -1.5023e-03,\n",
      "        -5.6924e-02, -5.9036e-02, -4.5694e-02,  9.9514e-03, -5.1700e-02,\n",
      "        -1.1494e-02, -7.7397e-02, -3.1258e-02, -8.1408e-03,  1.9067e-03,\n",
      "         9.4089e-03,  2.0783e-03, -4.7040e-02, -4.0146e-02, -2.4507e-03,\n",
      "         8.4809e-03,  1.0361e-02, -5.7661e-02, -4.7608e-02,  1.2851e-02,\n",
      "        -1.4767e-02, -4.2759e-02, -1.9623e-02,  1.1836e-02,  1.4959e-02,\n",
      "        -4.4126e-02,  6.0530e-03, -4.1580e-04,  4.9710e-03, -4.7913e-02,\n",
      "         4.4390e-03, -5.2241e-03, -2.0360e-02, -1.4502e-02,  2.0594e-02,\n",
      "        -2.5577e-03, -4.1430e-02, -2.9140e-02, -4.0944e-02, -6.1164e-03,\n",
      "        -3.1758e-02, -3.9694e-02,  2.5746e-02, -2.9143e-02,  4.5527e-02,\n",
      "        -1.2028e-02, -4.2406e-02, -2.7950e-02,  3.1066e-02,  4.5484e-03,\n",
      "        -2.7983e-02, -6.2020e-02, -2.5288e-03, -3.3906e-02, -3.8472e-03,\n",
      "        -2.6162e-02, -1.5782e-02, -4.8842e-02, -1.7358e-02,  8.4556e-03,\n",
      "         2.0233e-02, -1.2204e-02, -2.0536e-02,  6.2829e-03,  1.6937e-02,\n",
      "        -1.2108e-02, -7.0847e-04, -2.7441e-02,  1.3523e-02,  3.3657e-02,\n",
      "         2.5300e-02, -3.0291e-02, -1.1150e-03, -2.7236e-03, -2.4712e-02,\n",
      "         2.6576e-02, -4.8125e-02, -1.1657e-02, -3.4564e-02, -4.5242e-02,\n",
      "        -1.2149e-02, -3.5598e-02,  2.2832e-02, -4.5735e-02, -8.8973e-02,\n",
      "        -5.1171e-02, -3.8941e-03,  3.1640e-03, -1.4766e-02,  1.8416e-02,\n",
      "        -6.9129e-03,  4.4334e-03, -7.7475e-03, -4.3070e-02, -3.1314e-02,\n",
      "        -2.3735e-02, -4.7409e-02, -1.5702e-02, -3.5005e-02, -1.9727e-02,\n",
      "        -6.9275e-02,  8.3313e-03, -4.8605e-02, -1.4404e-02, -3.3742e-02,\n",
      "        -3.1165e-02,  4.5092e-03, -2.0127e-02, -3.4269e-02, -5.3124e-02,\n",
      "         1.2086e-02, -2.1954e-02]), tensor([[-0.0527,  0.0009,  0.0289,  ...,  0.0753,  0.0322,  0.0164],\n",
      "        [-0.0695,  0.0113,  0.0110,  ..., -0.0089,  0.0422,  0.0045],\n",
      "        [ 0.0319,  0.0684,  0.0293,  ...,  0.0802, -0.0148, -0.0259],\n",
      "        ...,\n",
      "        [-0.0497,  0.0103, -0.0690,  ...,  0.0344, -0.0148,  0.0526],\n",
      "        [-0.0034,  0.0700, -0.0823,  ..., -0.0796, -0.0120, -0.0083],\n",
      "        [ 0.0324, -0.0175, -0.1394,  ..., -0.0384,  0.0575,  0.0245]]), tensor([-1.2024e-03, -1.2955e-02,  2.2471e-02,  2.4673e-02,  3.3536e-02,\n",
      "         8.3549e-03,  6.8365e-03,  1.7885e-02, -7.4886e-02,  1.6710e-02,\n",
      "         2.6404e-03, -3.7788e-02, -5.1492e-02,  5.7285e-02,  1.4499e-02,\n",
      "         1.0166e-02, -1.3974e-02,  7.6821e-02, -8.2948e-02,  3.7859e-02,\n",
      "        -1.4796e-02,  1.5129e-02,  2.9487e-02, -1.4027e-02, -3.5702e-03,\n",
      "        -4.1644e-02,  8.3084e-03,  3.3634e-02, -9.0958e-03, -1.0343e-02,\n",
      "         7.3879e-02,  4.4647e-02,  1.3890e-02,  3.3975e-02, -3.3852e-02,\n",
      "        -2.9320e-02,  6.1711e-03, -1.2653e-02,  1.2819e-02, -1.6962e-02,\n",
      "         4.8439e-02,  3.6515e-02,  6.4587e-02,  5.4449e-02,  1.9421e-02,\n",
      "        -2.0534e-02,  1.3346e-01, -3.4051e-02,  3.5399e-02,  1.1475e-02,\n",
      "         2.0119e-02,  3.6801e-02,  4.7666e-02,  8.4334e-03,  1.5002e-02,\n",
      "         2.7926e-02, -3.3507e-02, -4.3392e-02, -7.5737e-03,  5.6561e-02,\n",
      "         5.0749e-02,  1.0059e-02, -3.1609e-03,  5.3667e-02,  6.5171e-02,\n",
      "        -3.9914e-02,  2.7318e-02,  4.6686e-02,  3.3248e-02,  4.7074e-02,\n",
      "        -2.1973e-02, -1.3249e-02, -8.9785e-03, -4.0083e-02,  5.6703e-02,\n",
      "        -3.1402e-02,  4.4606e-02, -4.5657e-02,  1.6238e-02, -3.2173e-02,\n",
      "         2.5091e-02,  3.5375e-02,  5.3357e-02,  5.8212e-03,  5.5662e-02,\n",
      "         9.3322e-03, -1.2111e-02, -2.4798e-03,  5.8552e-02,  1.2343e-01,\n",
      "         1.9506e-02,  3.2432e-02,  6.7532e-03, -5.3125e-02, -2.9070e-02,\n",
      "        -4.5937e-03, -2.2046e-02, -1.1276e-02,  8.1475e-02, -8.0789e-03,\n",
      "         4.8451e-02,  6.1871e-02,  1.7793e-02,  1.8949e-02,  1.1176e-01,\n",
      "        -5.0440e-02, -1.0282e-02,  1.4238e-02,  3.7618e-02,  9.3387e-03,\n",
      "        -1.3788e-02,  3.0970e-02, -2.6358e-03,  4.1154e-05, -2.3446e-02,\n",
      "         3.0380e-03, -4.6154e-02,  2.9291e-03,  3.3229e-02, -1.8413e-02,\n",
      "         2.2326e-02, -3.0735e-02,  5.2938e-03,  6.2510e-02,  2.5768e-02,\n",
      "        -2.5741e-02,  5.6451e-02,  3.7247e-02,  5.2917e-02,  9.5125e-03,\n",
      "         1.1757e-02, -2.0524e-02, -8.8607e-02,  1.8669e-02, -7.3149e-03,\n",
      "        -2.4804e-02,  4.3519e-02,  3.0360e-02, -6.2752e-02,  3.3166e-02,\n",
      "        -7.7869e-02, -3.3047e-02,  7.1036e-02,  3.5149e-02,  6.5292e-02,\n",
      "        -3.2426e-02,  6.9547e-02, -9.7546e-03,  6.2944e-02,  3.5835e-02,\n",
      "         5.1529e-03, -5.3878e-02,  4.3234e-02,  3.5465e-02,  5.9530e-02,\n",
      "         1.1584e-02, -4.0228e-03,  4.5918e-02, -6.8961e-03,  5.1080e-02,\n",
      "        -1.0682e-02,  8.8745e-02,  1.1586e-02, -3.0159e-02, -1.8243e-02,\n",
      "        -3.0084e-02, -3.4140e-02, -6.4744e-03,  3.8609e-02,  3.0838e-02,\n",
      "         5.8134e-02, -1.3116e-02, -1.0249e-01,  3.1402e-02,  5.0031e-02,\n",
      "        -7.1877e-02,  4.3169e-03,  2.9719e-02, -8.1577e-03,  3.8783e-02,\n",
      "        -2.0460e-02,  4.9211e-02, -3.3153e-02, -1.2258e-02,  4.8323e-02,\n",
      "         6.3104e-02, -6.1973e-02, -1.6075e-02,  3.2594e-02,  9.5413e-02,\n",
      "        -2.9876e-03, -3.9752e-02,  5.6891e-02,  7.9386e-02,  5.3593e-02,\n",
      "         4.2832e-02,  6.6967e-02,  2.2259e-02,  4.5837e-02,  1.3812e-02,\n",
      "         1.7979e-03,  5.0711e-02,  7.6080e-02, -8.4350e-04,  6.5727e-03,\n",
      "         6.6083e-02,  6.5999e-02, -4.9435e-02,  3.0466e-02,  6.4317e-02,\n",
      "         7.6702e-03,  2.8737e-02, -5.6973e-02,  2.3546e-02,  9.8247e-02,\n",
      "        -3.1926e-02, -1.6187e-02,  2.2272e-02,  5.1580e-02, -1.0638e-02,\n",
      "         5.1386e-02,  3.0396e-02, -5.4483e-02,  3.0258e-02,  6.0181e-02,\n",
      "         4.3660e-02, -1.6669e-02,  1.1402e-01,  2.1671e-02,  6.0484e-03,\n",
      "         1.9734e-02, -5.5784e-02, -3.6509e-02, -7.4355e-03,  2.4006e-02,\n",
      "         1.1822e-01, -4.4308e-02, -4.2631e-02,  6.3737e-03,  4.6807e-02,\n",
      "         9.2639e-03, -1.1510e-02, -4.5910e-02,  4.5923e-02,  2.8826e-02,\n",
      "         6.0164e-02,  2.7785e-02,  1.0999e-01, -4.2707e-03, -2.6830e-02,\n",
      "         1.2290e-02,  7.7799e-02, -2.9930e-02, -6.6838e-02, -2.0832e-02,\n",
      "         1.7332e-03]), tensor([[-0.0393, -0.0273, -0.0061,  ...,  0.0146, -0.0764, -0.0673],\n",
      "        [-0.0731,  0.0023,  0.0291,  ..., -0.0676,  0.0335,  0.0336],\n",
      "        [ 0.0699, -0.0611, -0.0774,  ...,  0.0126, -0.0319,  0.0335],\n",
      "        ...,\n",
      "        [-0.0207,  0.0304, -0.0638,  ..., -0.0508,  0.0216,  0.0478],\n",
      "        [ 0.0232, -0.0870,  0.0903,  ..., -0.0943, -0.0255, -0.0381],\n",
      "        [ 0.0056, -0.0161,  0.0751,  ...,  0.0414,  0.1141, -0.0971]]), tensor([ 0.0336, -0.0145,  0.0994,  0.0650,  0.0505,  0.0668, -0.0079,  0.0021,\n",
      "         0.0309,  0.0350,  0.1627,  0.0529,  0.0285,  0.1018,  0.0992, -0.0662,\n",
      "         0.0378,  0.1381,  0.0219,  0.0703,  0.0964,  0.1331,  0.0142,  0.1152,\n",
      "        -0.0169,  0.0541,  0.0395,  0.0480, -0.0266,  0.0651,  0.0942,  0.1562,\n",
      "        -0.0140,  0.0537, -0.0431,  0.1070,  0.1075,  0.0823,  0.1014,  0.0819,\n",
      "         0.0581,  0.1056,  0.0207,  0.0691, -0.0643,  0.0535,  0.1232, -0.0201,\n",
      "         0.0826,  0.0657,  0.0027,  0.0333,  0.0418,  0.0374,  0.0976, -0.0559,\n",
      "         0.0067,  0.1285,  0.1254,  0.0151,  0.0709,  0.1048,  0.1842,  0.0268,\n",
      "         0.1130,  0.0458,  0.1171, -0.0577,  0.0091,  0.0696, -0.0137,  0.1384,\n",
      "        -0.0198,  0.0381,  0.1013,  0.1085,  0.2120,  0.0525,  0.0078,  0.0701,\n",
      "         0.1273,  0.0610,  0.0366,  0.0493,  0.0135, -0.1245,  0.0623, -0.0266,\n",
      "        -0.0147,  0.0088,  0.0064,  0.1022,  0.0007,  0.0563, -0.0499,  0.0477,\n",
      "         0.0619,  0.1340,  0.0504,  0.0829,  0.1681,  0.0021,  0.0788,  0.1162,\n",
      "         0.1639, -0.0003,  0.1326,  0.1360,  0.0765,  0.1032, -0.0428,  0.0270,\n",
      "        -0.0290,  0.0060,  0.0793,  0.0711,  0.0524,  0.0007, -0.0146,  0.0427,\n",
      "         0.0604,  0.0798, -0.0417,  0.0471,  0.0725,  0.0744, -0.0079,  0.1680]), tensor([[ 0.0469,  0.0200, -0.0682,  ...,  0.0087,  0.0457, -0.0659],\n",
      "        [-0.1033,  0.1091, -0.1454,  ...,  0.0485,  0.0701,  0.0027],\n",
      "        [ 0.0747, -0.1071,  0.0359,  ..., -0.0313,  0.0191,  0.0610],\n",
      "        ...,\n",
      "        [ 0.0223,  0.0646, -0.2020,  ...,  0.0088, -0.0122, -0.1939],\n",
      "        [ 0.0440,  0.0835, -0.0830,  ...,  0.0464,  0.0582, -0.0286],\n",
      "        [-0.0036, -0.0463, -0.1874,  ..., -0.1300, -0.0647, -0.1270]]), tensor([ 0.0009, -0.1255,  0.0503,  0.1696,  0.0709, -0.0190,  0.0024, -0.1057,\n",
      "         0.0906, -0.1687])])\n"
     ]
    }
   ],
   "source": [
    "print(\"Our model: \\n\\n\", model, '\\n')\n",
    "print(\"The state dict keys: \\n\\n\", model.state_dict().keys())\n",
    "print(\"The state dict keys: \\n\\n\", model.state_dict().values())"
   ]
  },
  {
   "cell_type": "markdown",
   "metadata": {},
   "source": [
    "The simplest thing to do is simply save the state dict with `torch.save`. For example, we can save it to a file `'checkpoint.pth'`."
   ]
  },
  {
   "cell_type": "code",
   "execution_count": 7,
   "metadata": {},
   "outputs": [],
   "source": [
    "torch.save(model.state_dict(), 'checkpoint.pth')"
   ]
  },
  {
   "cell_type": "markdown",
   "metadata": {},
   "source": [
    "Then we can load the state dict with `torch.load`."
   ]
  },
  {
   "cell_type": "code",
   "execution_count": 8,
   "metadata": {},
   "outputs": [
    {
     "name": "stdout",
     "output_type": "stream",
     "text": [
      "odict_keys(['hidden_layers.0.weight', 'hidden_layers.0.bias', 'hidden_layers.1.weight', 'hidden_layers.1.bias', 'hidden_layers.2.weight', 'hidden_layers.2.bias', 'output.weight', 'output.bias'])\n"
     ]
    }
   ],
   "source": [
    "state_dict = torch.load('checkpoint.pth')\n",
    "print(state_dict.keys())"
   ]
  },
  {
   "cell_type": "markdown",
   "metadata": {},
   "source": [
    "And to load the state dict in to the network, you do `model.load_state_dict(state_dict)`."
   ]
  },
  {
   "cell_type": "code",
   "execution_count": 12,
   "metadata": {},
   "outputs": [
    {
     "data": {
      "text/plain": [
       "<All keys matched successfully>"
      ]
     },
     "execution_count": 12,
     "metadata": {},
     "output_type": "execute_result"
    }
   ],
   "source": [
    "model.load_state_dict(state_dict)"
   ]
  },
  {
   "cell_type": "markdown",
   "metadata": {},
   "source": [
    "Seems pretty straightforward, but as usual it's a bit more complicated. Loading the state dict works only if the model architecture is exactly the same as the checkpoint architecture. If I create a model with a different architecture, this fails."
   ]
  },
  {
   "cell_type": "code",
   "execution_count": 13,
   "metadata": {},
   "outputs": [
    {
     "ename": "RuntimeError",
     "evalue": "Error(s) in loading state_dict for Network:\n\tsize mismatch for hidden_layers.0.weight: copying a param with shape torch.Size([512, 784]) from checkpoint, the shape in current model is torch.Size([400, 784]).\n\tsize mismatch for hidden_layers.0.bias: copying a param with shape torch.Size([512]) from checkpoint, the shape in current model is torch.Size([400]).\n\tsize mismatch for hidden_layers.1.weight: copying a param with shape torch.Size([256, 512]) from checkpoint, the shape in current model is torch.Size([200, 400]).\n\tsize mismatch for hidden_layers.1.bias: copying a param with shape torch.Size([256]) from checkpoint, the shape in current model is torch.Size([200]).\n\tsize mismatch for hidden_layers.2.weight: copying a param with shape torch.Size([128, 256]) from checkpoint, the shape in current model is torch.Size([100, 200]).\n\tsize mismatch for hidden_layers.2.bias: copying a param with shape torch.Size([128]) from checkpoint, the shape in current model is torch.Size([100]).\n\tsize mismatch for output.weight: copying a param with shape torch.Size([10, 128]) from checkpoint, the shape in current model is torch.Size([10, 100]).",
     "output_type": "error",
     "traceback": [
      "\u001b[1;31m---------------------------------------------------------------------------\u001b[0m",
      "\u001b[1;31mRuntimeError\u001b[0m                              Traceback (most recent call last)",
      "Input \u001b[1;32mIn [13]\u001b[0m, in \u001b[0;36m<cell line: 4>\u001b[1;34m()\u001b[0m\n\u001b[0;32m      2\u001b[0m model \u001b[38;5;241m=\u001b[39m fc_model\u001b[38;5;241m.\u001b[39mNetwork(\u001b[38;5;241m784\u001b[39m, \u001b[38;5;241m10\u001b[39m, [\u001b[38;5;241m400\u001b[39m, \u001b[38;5;241m200\u001b[39m, \u001b[38;5;241m100\u001b[39m])\n\u001b[0;32m      3\u001b[0m \u001b[38;5;66;03m# This will throw an error because the tensor sizes are wrong!\u001b[39;00m\n\u001b[1;32m----> 4\u001b[0m \u001b[43mmodel\u001b[49m\u001b[38;5;241;43m.\u001b[39;49m\u001b[43mload_state_dict\u001b[49m\u001b[43m(\u001b[49m\u001b[43mstate_dict\u001b[49m\u001b[43m)\u001b[49m\n",
      "File \u001b[1;32mD:\\Programs\\Anaconda3\\lib\\site-packages\\torch\\nn\\modules\\module.py:1482\u001b[0m, in \u001b[0;36mModule.load_state_dict\u001b[1;34m(self, state_dict, strict)\u001b[0m\n\u001b[0;32m   1477\u001b[0m         error_msgs\u001b[38;5;241m.\u001b[39minsert(\n\u001b[0;32m   1478\u001b[0m             \u001b[38;5;241m0\u001b[39m, \u001b[38;5;124m'\u001b[39m\u001b[38;5;124mMissing key(s) in state_dict: \u001b[39m\u001b[38;5;132;01m{}\u001b[39;00m\u001b[38;5;124m. \u001b[39m\u001b[38;5;124m'\u001b[39m\u001b[38;5;241m.\u001b[39mformat(\n\u001b[0;32m   1479\u001b[0m                 \u001b[38;5;124m'\u001b[39m\u001b[38;5;124m, \u001b[39m\u001b[38;5;124m'\u001b[39m\u001b[38;5;241m.\u001b[39mjoin(\u001b[38;5;124m'\u001b[39m\u001b[38;5;124m\"\u001b[39m\u001b[38;5;132;01m{}\u001b[39;00m\u001b[38;5;124m\"\u001b[39m\u001b[38;5;124m'\u001b[39m\u001b[38;5;241m.\u001b[39mformat(k) \u001b[38;5;28;01mfor\u001b[39;00m k \u001b[38;5;129;01min\u001b[39;00m missing_keys)))\n\u001b[0;32m   1481\u001b[0m \u001b[38;5;28;01mif\u001b[39;00m \u001b[38;5;28mlen\u001b[39m(error_msgs) \u001b[38;5;241m>\u001b[39m \u001b[38;5;241m0\u001b[39m:\n\u001b[1;32m-> 1482\u001b[0m     \u001b[38;5;28;01mraise\u001b[39;00m \u001b[38;5;167;01mRuntimeError\u001b[39;00m(\u001b[38;5;124m'\u001b[39m\u001b[38;5;124mError(s) in loading state_dict for \u001b[39m\u001b[38;5;132;01m{}\u001b[39;00m\u001b[38;5;124m:\u001b[39m\u001b[38;5;130;01m\\n\u001b[39;00m\u001b[38;5;130;01m\\t\u001b[39;00m\u001b[38;5;132;01m{}\u001b[39;00m\u001b[38;5;124m'\u001b[39m\u001b[38;5;241m.\u001b[39mformat(\n\u001b[0;32m   1483\u001b[0m                        \u001b[38;5;28mself\u001b[39m\u001b[38;5;241m.\u001b[39m\u001b[38;5;18m__class__\u001b[39m\u001b[38;5;241m.\u001b[39m\u001b[38;5;18m__name__\u001b[39m, \u001b[38;5;124m\"\u001b[39m\u001b[38;5;130;01m\\n\u001b[39;00m\u001b[38;5;130;01m\\t\u001b[39;00m\u001b[38;5;124m\"\u001b[39m\u001b[38;5;241m.\u001b[39mjoin(error_msgs)))\n\u001b[0;32m   1484\u001b[0m \u001b[38;5;28;01mreturn\u001b[39;00m _IncompatibleKeys(missing_keys, unexpected_keys)\n",
      "\u001b[1;31mRuntimeError\u001b[0m: Error(s) in loading state_dict for Network:\n\tsize mismatch for hidden_layers.0.weight: copying a param with shape torch.Size([512, 784]) from checkpoint, the shape in current model is torch.Size([400, 784]).\n\tsize mismatch for hidden_layers.0.bias: copying a param with shape torch.Size([512]) from checkpoint, the shape in current model is torch.Size([400]).\n\tsize mismatch for hidden_layers.1.weight: copying a param with shape torch.Size([256, 512]) from checkpoint, the shape in current model is torch.Size([200, 400]).\n\tsize mismatch for hidden_layers.1.bias: copying a param with shape torch.Size([256]) from checkpoint, the shape in current model is torch.Size([200]).\n\tsize mismatch for hidden_layers.2.weight: copying a param with shape torch.Size([128, 256]) from checkpoint, the shape in current model is torch.Size([100, 200]).\n\tsize mismatch for hidden_layers.2.bias: copying a param with shape torch.Size([128]) from checkpoint, the shape in current model is torch.Size([100]).\n\tsize mismatch for output.weight: copying a param with shape torch.Size([10, 128]) from checkpoint, the shape in current model is torch.Size([10, 100])."
     ]
    }
   ],
   "source": [
    "# Try this\n",
    "model = fc_model.Network(784, 10, [400, 200, 100])\n",
    "# This will throw an error because the tensor sizes are wrong!\n",
    "model.load_state_dict(state_dict)"
   ]
  },
  {
   "cell_type": "markdown",
   "metadata": {},
   "source": [
    "This means we need to rebuild the model exactly as it was when trained. Information about the model architecture needs to be saved in the checkpoint, along with the state dict. To do this, you build a dictionary with all the information you need to compeletely rebuild the model."
   ]
  },
  {
   "cell_type": "code",
   "execution_count": 14,
   "metadata": {},
   "outputs": [],
   "source": [
    "checkpoint = {'input_size': 784,\n",
    "              'output_size': 10,\n",
    "              'hidden_layers': [each.out_features for each in model.hidden_layers],\n",
    "              'state_dict': model.state_dict()}\n",
    "\n",
    "torch.save(checkpoint, 'checkpoint.pth')"
   ]
  },
  {
   "cell_type": "markdown",
   "metadata": {},
   "source": [
    "Now the checkpoint has all the necessary information to rebuild the trained model. You can easily make that a function if you want. Similarly, we can write a function to load checkpoints. "
   ]
  },
  {
   "cell_type": "code",
   "execution_count": 15,
   "metadata": {},
   "outputs": [],
   "source": [
    "def load_checkpoint(filepath):\n",
    "    checkpoint = torch.load(filepath)\n",
    "    model = fc_model.Network(checkpoint['input_size'],\n",
    "                             checkpoint['output_size'],\n",
    "                             checkpoint['hidden_layers'])\n",
    "    model.load_state_dict(checkpoint['state_dict'])\n",
    "    \n",
    "    return model"
   ]
  },
  {
   "cell_type": "code",
   "execution_count": 16,
   "metadata": {},
   "outputs": [
    {
     "name": "stdout",
     "output_type": "stream",
     "text": [
      "Network(\n",
      "  (hidden_layers): ModuleList(\n",
      "    (0): Linear(in_features=784, out_features=400, bias=True)\n",
      "    (1): Linear(in_features=400, out_features=200, bias=True)\n",
      "    (2): Linear(in_features=200, out_features=100, bias=True)\n",
      "  )\n",
      "  (output): Linear(in_features=100, out_features=10, bias=True)\n",
      "  (dropout): Dropout(p=0.5, inplace=False)\n",
      ")\n"
     ]
    }
   ],
   "source": [
    "model = load_checkpoint('checkpoint.pth')\n",
    "print(model)"
   ]
  }
 ],
 "metadata": {
  "kernelspec": {
   "display_name": "Python 3 (ipykernel)",
   "language": "python",
   "name": "python3"
  },
  "language_info": {
   "codemirror_mode": {
    "name": "ipython",
    "version": 3
   },
   "file_extension": ".py",
   "mimetype": "text/x-python",
   "name": "python",
   "nbconvert_exporter": "python",
   "pygments_lexer": "ipython3",
   "version": "3.8.13"
  }
 },
 "nbformat": 4,
 "nbformat_minor": 2
}
