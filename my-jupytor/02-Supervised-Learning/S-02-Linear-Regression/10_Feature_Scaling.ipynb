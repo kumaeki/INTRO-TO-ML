{
 "cells": [
  {
   "cell_type": "markdown",
   "id": "615016b5",
   "metadata": {},
   "source": [
    "# Feature Scaling\n",
    "\n",
    "Feature Scaling is a way of transforming your data into a common range of values.\n",
    "\n",
    "There are two common scalings:\n",
    "\n",
    "- Standardizing\n",
    "\n",
    "- Normalizing"
   ]
  },
  {
   "cell_type": "markdown",
   "id": "c6e6b241",
   "metadata": {},
   "source": [
    "### Standardizing\n",
    "\n",
    "For example, we have a column in `df` called `height`, we could create a standardized height as :\n",
    "\n",
    "```py\n",
    "df[\"height_standard\"] = (df[\"height\"] - df[\"height\"].mean()) / df[\"height\"].std()\n",
    "```\n",
    "\n",
    "`df[\"height\"].std()` : standard deviation of the columln \n"
   ]
  },
  {
   "cell_type": "markdown",
   "id": "3aab00f8",
   "metadata": {},
   "source": [
    "### Normalizing\n",
    "With Normalizing, data are scaled between 0 and 1:\n",
    "```\n",
    "df[\"height_normal\"] = (df[\"height\"] - df[\"height\"].min()) / (df[\"height\"].max() - df['height'].min())\n",
    "```"
   ]
  },
  {
   "cell_type": "markdown",
   "id": "fde46f65",
   "metadata": {},
   "source": [
    "### When to use Feature Scaling\n",
    "- When your algorithm uses a distance-based metric to predict.\n",
    "- When you incorporate regularization."
   ]
  },
  {
   "cell_type": "markdown",
   "id": "ad36e71b",
   "metadata": {},
   "source": [
    "### Distance-Based Metrics\n",
    "\n",
    "In future lessons, you will see one common supervised learning technique that is based on the distance points are from one another called [Support Vector Machines (or SVMs)](https://en.wikipedia.org/wiki/Support_vector_machine). \n",
    "\n",
    "Another technique that involves distance-based methods to determine a prediction is [k-nearest neighbors (or k-nn)](https://en.wikipedia.org/wiki/K-nearest_neighbors_algorithm). \n",
    "\n",
    "With either of these techniques, choosing not to scale your data may lead to drastically different (and likely misleading) ending predictions.\n",
    "\n",
    "For this reason, choosing some sort of feature scaling is necessary with these distance-based techniques."
   ]
  },
  {
   "cell_type": "markdown",
   "id": "53507002",
   "metadata": {},
   "source": [
    "### Regularization\n",
    "\n",
    "When you start introducing regularization, you will again want to scale the features of your model. \n",
    "\n",
    "The penalty on particular coefficients in regularized linear regression techniques depends largely on the scale associated with the features.\n",
    "\n",
    "When one feature is on a small range, say from 0 to 10, and another is on a large range, say from 0 to 1 000 000, applying regularization is going to unfairly punish the feature with the small range.\n",
    "\n",
    "Features with small ranges need to have larger coefficients compared to features with large ranges in order to have the same effect on the outcome of the data.\n",
    "\n",
    "(Think about how $ab = baab=ba$ for two numbers $aa$ and $bb$.)\n",
    "\n",
    "Therefore, if regularization could remove one of those two features with the same net increase in error, it would rather remove the small-ranged feature with the large coefficient, since that would reduce the regularization term the most."
   ]
  },
  {
   "cell_type": "markdown",
   "id": "34d23723",
   "metadata": {},
   "source": [
    "## Exercise\n",
    "\n",
    "Previously, you saw how regularization will remove features from a model (by setting their coefficients to zero) if the penalty for removing them is small. \n",
    "\n",
    "In this exercise, you'll revisit the same dataset as before and see how scaling the features changes which features are favored in a regularization step"
   ]
  },
  {
   "cell_type": "code",
   "execution_count": 1,
   "id": "6611ef4f",
   "metadata": {},
   "outputs": [
    {
     "data": {
      "text/html": [
       "<div>\n",
       "<style scoped>\n",
       "    .dataframe tbody tr th:only-of-type {\n",
       "        vertical-align: middle;\n",
       "    }\n",
       "\n",
       "    .dataframe tbody tr th {\n",
       "        vertical-align: top;\n",
       "    }\n",
       "\n",
       "    .dataframe thead th {\n",
       "        text-align: right;\n",
       "    }\n",
       "</style>\n",
       "<table border=\"1\" class=\"dataframe\">\n",
       "  <thead>\n",
       "    <tr style=\"text-align: right;\">\n",
       "      <th></th>\n",
       "      <th>0</th>\n",
       "      <th>1</th>\n",
       "      <th>2</th>\n",
       "      <th>3</th>\n",
       "      <th>4</th>\n",
       "      <th>5</th>\n",
       "      <th>6</th>\n",
       "    </tr>\n",
       "  </thead>\n",
       "  <tbody>\n",
       "    <tr>\n",
       "      <th>0</th>\n",
       "      <td>1.25664</td>\n",
       "      <td>2.04978</td>\n",
       "      <td>-6.23640</td>\n",
       "      <td>4.71926</td>\n",
       "      <td>-4.26931</td>\n",
       "      <td>0.20590</td>\n",
       "      <td>12.31798</td>\n",
       "    </tr>\n",
       "    <tr>\n",
       "      <th>1</th>\n",
       "      <td>-3.89012</td>\n",
       "      <td>-0.37511</td>\n",
       "      <td>6.14979</td>\n",
       "      <td>4.94585</td>\n",
       "      <td>-3.57844</td>\n",
       "      <td>0.00640</td>\n",
       "      <td>23.67628</td>\n",
       "    </tr>\n",
       "    <tr>\n",
       "      <th>2</th>\n",
       "      <td>5.09784</td>\n",
       "      <td>0.98120</td>\n",
       "      <td>-0.29939</td>\n",
       "      <td>5.85805</td>\n",
       "      <td>0.28297</td>\n",
       "      <td>-0.20626</td>\n",
       "      <td>-1.53459</td>\n",
       "    </tr>\n",
       "    <tr>\n",
       "      <th>3</th>\n",
       "      <td>0.39034</td>\n",
       "      <td>-3.06861</td>\n",
       "      <td>-5.63488</td>\n",
       "      <td>6.43941</td>\n",
       "      <td>0.39256</td>\n",
       "      <td>-0.07084</td>\n",
       "      <td>-24.68670</td>\n",
       "    </tr>\n",
       "    <tr>\n",
       "      <th>4</th>\n",
       "      <td>5.84727</td>\n",
       "      <td>-0.15922</td>\n",
       "      <td>11.41246</td>\n",
       "      <td>7.52165</td>\n",
       "      <td>1.69886</td>\n",
       "      <td>0.29022</td>\n",
       "      <td>17.54122</td>\n",
       "    </tr>\n",
       "  </tbody>\n",
       "</table>\n",
       "</div>"
      ],
      "text/plain": [
       "         0        1         2        3        4        5         6\n",
       "0  1.25664  2.04978  -6.23640  4.71926 -4.26931  0.20590  12.31798\n",
       "1 -3.89012 -0.37511   6.14979  4.94585 -3.57844  0.00640  23.67628\n",
       "2  5.09784  0.98120  -0.29939  5.85805  0.28297 -0.20626  -1.53459\n",
       "3  0.39034 -3.06861  -5.63488  6.43941  0.39256 -0.07084 -24.68670\n",
       "4  5.84727 -0.15922  11.41246  7.52165  1.69886  0.29022  17.54122"
      ]
     },
     "execution_count": 1,
     "metadata": {},
     "output_type": "execute_result"
    }
   ],
   "source": [
    "import pandas as pd\n",
    "spreadsheet = pd.read_csv('./09_data.csv', delimiter = ',',header=None)\n",
    "spreadsheet.head()"
   ]
  },
  {
   "cell_type": "code",
   "execution_count": 4,
   "id": "f64b39ab",
   "metadata": {},
   "outputs": [
    {
     "name": "stdout",
     "output_type": "stream",
     "text": [
      "[  0.           3.90753617   9.02575748  -0.         -11.78303187\n",
      "   0.45340137]\n"
     ]
    }
   ],
   "source": [
    "import numpy as np\n",
    "import pandas as pd\n",
    "from sklearn.linear_model import Lasso\n",
    "from sklearn.preprocessing import StandardScaler\n",
    "\n",
    "# Assign the data to predictor and outcome variables\n",
    "train_data = pd.read_csv('./09_data.csv', header = None)\n",
    "X = train_data.iloc[:,:-1]\n",
    "y = train_data.iloc[:,-1]\n",
    "\n",
    "scaler = StandardScaler()\n",
    "\n",
    "X_scaled = scaler.fit_transform(X)\n",
    "\n",
    "lasso_reg = Lasso()\n",
    "\n",
    "lasso_reg.fit(X_scaled, y)\n",
    "\n",
    "reg_coef = lasso_reg.coef_\n",
    "print(reg_coef)"
   ]
  }
 ],
 "metadata": {
  "kernelspec": {
   "display_name": "Python [conda env:root] *",
   "language": "python",
   "name": "conda-root-py"
  },
  "language_info": {
   "codemirror_mode": {
    "name": "ipython",
    "version": 3
   },
   "file_extension": ".py",
   "mimetype": "text/x-python",
   "name": "python",
   "nbconvert_exporter": "python",
   "pygments_lexer": "ipython3",
   "version": "3.8.13"
  }
 },
 "nbformat": 4,
 "nbformat_minor": 5
}
