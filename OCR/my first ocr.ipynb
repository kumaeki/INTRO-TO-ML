{
 "cells": [
  {
   "cell_type": "markdown",
   "id": "a3c93c79",
   "metadata": {},
   "source": [
    " ref URL : https://github.com/tesseract-ocr/tesseract\n",
    " \n",
    "1. download the installer for windows\n",
    "   https://github.com/UB-Mannheim/tesseract/wiki\n",
    "1. install the pyocr \n",
    "   conda install pyocr -c conda-forge"
   ]
  },
  {
   "cell_type": "code",
   "execution_count": 18,
   "id": "21453a51",
   "metadata": {},
   "outputs": [
    {
     "name": "stdout",
     "output_type": "stream",
     "text": [
      "- ォ >, る この カー ド を 拾得 され た 方 は 、 お 手数 で す が 、 下 記 連 絡 先 まで ご 連絡 くだ さい ,\n",
      "4 志和 ) 人 人 午 馬 カー ドコ ー ル セン ター 0570 783 278 (24 村 癌 受付\n",
      "衣 間 放\n",
      "平成 元 年 3 月 31 目 生 .\n",
      "ゃ xc\n",
      "大寺 Wo\n",
      "介 9 コ ー\n",
      "る て と は 寺本\n",
      "回 間 導 回 sp\n",
      "a 科 4 に cm\n",
      "に の お 攻 生 問\n",
      "Ai 和\n",
      "に 諸 で\n"
     ]
    }
   ],
   "source": [
    "from PIL import Image\n",
    "import pyocr\n",
    "\n",
    "pyocr.tesseract.TESSERACT_CMD = r'C:\\\\Users\\\\tedyi\\\\AppData\\\\Local\\\\Tesseract-OCR\\\\tesseract.exe'\n",
    "tools = pyocr.get_available_tools()\n",
    "tool = tools[0]\n",
    "\n",
    "img = Image.open(\"test.jpg\")\n",
    "\n",
    "builder = pyocr.builders.TextBuilder(tesseract_layout=6)\n",
    "text = tool.image_to_string(img, lang=\"jpn\", builder=builder)\n",
    "\n",
    "img.show()\n",
    "print(text)"
   ]
  },
  {
   "cell_type": "code",
   "execution_count": 21,
   "id": "ab28e8be",
   "metadata": {},
   "outputs": [
    {
     "name": "stdout",
     "output_type": "stream",
     "text": [
      "1234 5678 29012\n",
      "氏名 番号 存 子\n",
      "平成 元 年 8 月 1 日 生\n",
      "誠\n",
      "論 吉\n"
     ]
    }
   ],
   "source": [
    "from PIL import Image\n",
    "import pyocr\n",
    "\n",
    "pyocr.tesseract.TESSERACT_CMD = r'C:\\\\Users\\\\tedyi\\\\AppData\\\\Local\\\\Tesseract-OCR\\\\tesseract.exe'\n",
    "tools = pyocr.get_available_tools()\n",
    "tool = tools[0]\n",
    "\n",
    "img = Image.open(\"test.jpg\")\n",
    "size  =img.size\n",
    "img2 = Image.new('RGB',size)\n",
    "border = 90\n",
    "\n",
    "for x in range(size[0]):\n",
    "    for y in range(size[1]):\n",
    "        r,g,b=img.getpixel((x,y))\n",
    "        if r > border or g > border or b > border:\n",
    "            r = 255\n",
    "            g = 255\n",
    "            b = 255\n",
    "        img2.putpixel((x,y),(r,g,b))\n",
    "\n",
    "\n",
    "builder = pyocr.builders.TextBuilder(tesseract_layout=6)\n",
    "text = tool.image_to_string(img2, lang=\"jpn\", builder=builder)\n",
    "\n",
    "img2.show()\n",
    "print(text)"
   ]
  },
  {
   "cell_type": "code",
   "execution_count": null,
   "id": "04661183",
   "metadata": {},
   "outputs": [],
   "source": []
  }
 ],
 "metadata": {
  "kernelspec": {
   "display_name": "Python [conda env:root] *",
   "language": "python",
   "name": "conda-root-py"
  },
  "language_info": {
   "codemirror_mode": {
    "name": "ipython",
    "version": 3
   },
   "file_extension": ".py",
   "mimetype": "text/x-python",
   "name": "python",
   "nbconvert_exporter": "python",
   "pygments_lexer": "ipython3",
   "version": "3.8.13"
  }
 },
 "nbformat": 4,
 "nbformat_minor": 5
}
