{
 "cells": [
  {
   "cell_type": "markdown",
   "id": "8adfd25b",
   "metadata": {},
   "source": [
    "## Gradient Descent\n",
    "\n",
    "We move the line, and calculate the error.\n",
    "- we move in this direction and see that the error increases, so that's not the way to go\n",
    "- we move in the other direction and see that the error decreased, so we pick this one\n",
    "\n",
    "repeat the steps many times over and over. every time descend the error a bit until we get the perfect line."
   ]
  },
  {
   "cell_type": "markdown",
   "id": "79173620",
   "metadata": {},
   "source": [
    "The two most common error functions for linear regression\n",
    "\n",
    "- Mean absolute error\n",
    "- Mean squared error"
   ]
  },
  {
   "cell_type": "markdown",
   "id": "35160d32",
   "metadata": {},
   "source": [
    "### Mean absolute error\n",
    "We have some points with coordinates $(x_1,y_1),(x_2,y_2)...(x_m,y_m)$, and a line is called $\\hat{Y}$.\n",
    "The corresponding point on the line are $(x_1,\\hat{y}_1),(x_2,\\hat{y}_2)...(x_m,\\hat{y}_m)$.\n",
    "\n",
    "The vertical distance from the point to the line is $(y - \\hat{y})$, we call it the error.\n",
    "\n",
    "so the total error is the sum of all these distance for all the points\n",
    "\n",
    "$$Error = \\sum_{i=1}^m | y - \\hat{y}|$$\n",
    "\n",
    "the mean absolute error is \n",
    "\n",
    "$$Error = \\frac{1}{m} \\sum_{i=1}^m | y - \\hat{y}|$$"
   ]
  },
  {
   "cell_type": "markdown",
   "id": "273505ab",
   "metadata": {},
   "source": [
    "### Mean squared error\n",
    "Similar to the mean absolute Error,bu instead of taking the distance between the point and the prediction, we draw a square with this segment as it's side.\n",
    "\n",
    "$$Error = \\frac{1}{2m} \\sum_{i=1}^m ( y - \\hat{y})^2$$\n",
    "\n",
    "the one half is going to be there for convenience becuase later we will take the derivative of this error."
   ]
  }
 ],
 "metadata": {
  "kernelspec": {
   "display_name": "Python 3 (ipykernel)",
   "language": "python",
   "name": "python3"
  },
  "language_info": {
   "codemirror_mode": {
    "name": "ipython",
    "version": 3
   },
   "file_extension": ".py",
   "mimetype": "text/x-python",
   "name": "python",
   "nbconvert_exporter": "python",
   "pygments_lexer": "ipython3",
   "version": "3.8.15"
  },
  "vscode": {
   "interpreter": {
    "hash": "303fa613b6f3e1efefe7bb28036e305e1021fa6bdb083a5f9fd57f9d9bbad8eb"
   }
  }
 },
 "nbformat": 4,
 "nbformat_minor": 5
}
