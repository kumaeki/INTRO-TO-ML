{
 "cells": [
  {
   "cell_type": "markdown",
   "id": "314015a1",
   "metadata": {},
   "source": [
    "# Linear Regression\n",
    "\n",
    "Assuming we have a line represented by the equation \n",
    "\n",
    "$y = w_1x + w_2$\n",
    "\n",
    "and a point with coordinates\n",
    "\n",
    "$(p,q)$"
   ]
  },
  {
   "cell_type": "markdown",
   "id": "f9cd5255",
   "metadata": {},
   "source": [
    "## Absolute Trick\n",
    "\n",
    "We try to move the line closer to the point\n",
    "\n",
    "$y = (w_1 + p)x + (w_2 + 1)$\n",
    "\n",
    "This ends up being too large of a step, and over-corrected our line.instead , we utilize a small number called a learning rate, referred to as alpha($\\alpha$)\n",
    "\n",
    "$y = (w_1 + p\\alpha)x + (w_2 + \\alpha)$\n",
    "\n",
    "above works when the point(p, q) is above the line, when the point is udnerneath the line we need to substract in order to move the line appropriately\n",
    "\n",
    "$y = (w_1 - p\\alpha)x + (w_2 - \\alpha)$"
   ]
  },
  {
   "cell_type": "markdown",
   "id": "d2d1bf9f",
   "metadata": {},
   "source": [
    "## Square Trick\n",
    "If we have a point that is close to a line, we want to move the line very little.\n",
    "\n",
    "If we have a point is far from the line, we want to move the line a lot more.\n",
    "\n",
    "The Absolute Trick dose not take into account how far the point is from the line.\n",
    "\n",
    "The square trick addresses this.\n",
    "\n",
    "The point over the line has coordinates $(p,q)$ , and the corresponding point on the line is $(p,q^′)$ . The vertical distance between the point and the line is $(q - q^′)$\n",
    "\n",
    "$y = (w_1 + p(q - q^′)\\alpha)x + (w_2 + (q - q^′)\\alpha)$"
   ]
  }
 ],
 "metadata": {
  "kernelspec": {
   "display_name": "Python 3 (ipykernel)",
   "language": "python",
   "name": "python3"
  },
  "language_info": {
   "codemirror_mode": {
    "name": "ipython",
    "version": 3
   },
   "file_extension": ".py",
   "mimetype": "text/x-python",
   "name": "python",
   "nbconvert_exporter": "python",
   "pygments_lexer": "ipython3",
   "version": "3.8.15"
  },
  "vscode": {
   "interpreter": {
    "hash": "303fa613b6f3e1efefe7bb28036e305e1021fa6bdb083a5f9fd57f9d9bbad8eb"
   }
  }
 },
 "nbformat": 4,
 "nbformat_minor": 5
}
