{
 "cells": [
  {
   "cell_type": "markdown",
   "id": "2f04c6d2",
   "metadata": {},
   "source": [
    "# Regularization\n",
    "\n",
    "Regularization is a very useful technique to improve our models and make sure they don't overfit.\n",
    "\n",
    "We have two models that classify this data\n",
    "\n",
    "- line\n",
    "- higher degree polynomial curve\n",
    "\n",
    "Which one is better?\n",
    "\n",
    "- the line makes a couple of mistakes\n",
    "- the curve makes zero mistake but a bit more complicated"
   ]
  },
  {
   "cell_type": "markdown",
   "id": "18e7bee1",
   "metadata": {},
   "source": [
    "### Example\n",
    "Assume we have the equation of line \n",
    "\n",
    "$ 3x_1 + 4x_2 + 5 = 0$\n",
    "\n",
    "and the equation of polynomial is\n",
    "\n",
    "$2x_1^3 - 2x_1^2x_2-4x_2^3 + 3x_1^2 + 6x_1x_2 + 4x_2^2 + 5 = 0$\n",
    "\n",
    "The equation of line is much simpler than the polynomial equation.\n",
    "\n",
    "if we add the coefficients of the line to it's erro, we get a slightly larger error\n",
    "\n",
    "but if we take all of the coefficient of the polynomial and add them to the error, we get a huge error."
   ]
  },
  {
   "cell_type": "markdown",
   "id": "daf517ae",
   "metadata": {},
   "source": [
    "### L1 regularization\n",
    "\n",
    "take the absolute value of the coefficients of the model and adds them to the error.\n",
    "\n",
    "for the polynomial, we add $(2 + 2 + 4 + 3 + 6 + 4) = 21$ to the error (not including the constant)\n",
    "\n",
    "but for the line, we add $(3 + 4) = 7$ to the error.\n",
    "\n",
    "The complicated model give us a much higher error"
   ]
  },
  {
   "cell_type": "markdown",
   "id": "4c02c440",
   "metadata": {},
   "source": [
    "### L2 regularization\n",
    "\n",
    "L2 is similar to L1, however instead of adding the absolute values, we add the squares of the coefficients.\n",
    "\n",
    "for the polynomial, we get $2^2 + {-2}^2 + {-4}^2 + 3^2 + 6^2 + 4^2= 85$\n",
    "\n",
    "for the linear case, we get $3^2 + 4^2 = 25$"
   ]
  },
  {
   "cell_type": "markdown",
   "id": "86c1e01e",
   "metadata": {},
   "source": [
    "The complex model gets punished a lot more than the simple one.\n",
    "\n",
    "If we want to punish the complicated model too little, or too much?\n",
    "\n",
    "We can \"tune\", or alter the amount later that we want to punish complex models by using a parameter called Lambda"
   ]
  },
  {
   "cell_type": "markdown",
   "id": "c13fff54",
   "metadata": {},
   "source": [
    "## The lambda($\\lambda$) Parameter\n",
    "\n",
    "\n",
    "Using \\lambdaλ, we multiply the error that comes from the complexity of the model to adjust the overall error.\n",
    "\n",
    "- With a small lambda, the error that comes from the complexity of the model is not large enough to overtake the errors in the simplified model misclassifying points, so we will choose the complex model.\n",
    "\n",
    "- With a large value for lambda, we're multiplying the complexity part of the error by a lot. This punishes the complex model more so the simple model wins."
   ]
  },
  {
   "cell_type": "markdown",
   "id": "ec994da6",
   "metadata": {},
   "source": [
    "## Exercise\n",
    "\n",
    "Perhaps it's not too surprising at this point, but there are classes in sklearn that will help you perform regularization with your linear regression. \n",
    "\n",
    "You'll get practice with implementing that in this exercise.\n",
    "\n",
    "In this assignment's data.csv, you'll find data for a bunch of points including six predictor variables and one outcome variable. \n",
    "\n",
    "Use sklearn's Lasso class to fit a linear regression model to the data, while also using L1 regularization to control for model complexity."
   ]
  },
  {
   "cell_type": "code",
   "execution_count": 4,
   "id": "6ad1680a",
   "metadata": {},
   "outputs": [
    {
     "data": {
      "text/html": [
       "<div>\n",
       "<style scoped>\n",
       "    .dataframe tbody tr th:only-of-type {\n",
       "        vertical-align: middle;\n",
       "    }\n",
       "\n",
       "    .dataframe tbody tr th {\n",
       "        vertical-align: top;\n",
       "    }\n",
       "\n",
       "    .dataframe thead th {\n",
       "        text-align: right;\n",
       "    }\n",
       "</style>\n",
       "<table border=\"1\" class=\"dataframe\">\n",
       "  <thead>\n",
       "    <tr style=\"text-align: right;\">\n",
       "      <th></th>\n",
       "      <th>0</th>\n",
       "      <th>1</th>\n",
       "      <th>2</th>\n",
       "      <th>3</th>\n",
       "      <th>4</th>\n",
       "      <th>5</th>\n",
       "      <th>6</th>\n",
       "    </tr>\n",
       "  </thead>\n",
       "  <tbody>\n",
       "    <tr>\n",
       "      <th>0</th>\n",
       "      <td>1.25664</td>\n",
       "      <td>2.04978</td>\n",
       "      <td>-6.23640</td>\n",
       "      <td>4.71926</td>\n",
       "      <td>-4.26931</td>\n",
       "      <td>0.20590</td>\n",
       "      <td>12.31798</td>\n",
       "    </tr>\n",
       "    <tr>\n",
       "      <th>1</th>\n",
       "      <td>-3.89012</td>\n",
       "      <td>-0.37511</td>\n",
       "      <td>6.14979</td>\n",
       "      <td>4.94585</td>\n",
       "      <td>-3.57844</td>\n",
       "      <td>0.00640</td>\n",
       "      <td>23.67628</td>\n",
       "    </tr>\n",
       "    <tr>\n",
       "      <th>2</th>\n",
       "      <td>5.09784</td>\n",
       "      <td>0.98120</td>\n",
       "      <td>-0.29939</td>\n",
       "      <td>5.85805</td>\n",
       "      <td>0.28297</td>\n",
       "      <td>-0.20626</td>\n",
       "      <td>-1.53459</td>\n",
       "    </tr>\n",
       "    <tr>\n",
       "      <th>3</th>\n",
       "      <td>0.39034</td>\n",
       "      <td>-3.06861</td>\n",
       "      <td>-5.63488</td>\n",
       "      <td>6.43941</td>\n",
       "      <td>0.39256</td>\n",
       "      <td>-0.07084</td>\n",
       "      <td>-24.68670</td>\n",
       "    </tr>\n",
       "    <tr>\n",
       "      <th>4</th>\n",
       "      <td>5.84727</td>\n",
       "      <td>-0.15922</td>\n",
       "      <td>11.41246</td>\n",
       "      <td>7.52165</td>\n",
       "      <td>1.69886</td>\n",
       "      <td>0.29022</td>\n",
       "      <td>17.54122</td>\n",
       "    </tr>\n",
       "  </tbody>\n",
       "</table>\n",
       "</div>"
      ],
      "text/plain": [
       "         0        1         2        3        4        5         6\n",
       "0  1.25664  2.04978  -6.23640  4.71926 -4.26931  0.20590  12.31798\n",
       "1 -3.89012 -0.37511   6.14979  4.94585 -3.57844  0.00640  23.67628\n",
       "2  5.09784  0.98120  -0.29939  5.85805  0.28297 -0.20626  -1.53459\n",
       "3  0.39034 -3.06861  -5.63488  6.43941  0.39256 -0.07084 -24.68670\n",
       "4  5.84727 -0.15922  11.41246  7.52165  1.69886  0.29022  17.54122"
      ]
     },
     "execution_count": 4,
     "metadata": {},
     "output_type": "execute_result"
    }
   ],
   "source": [
    "import pandas as pd\n",
    "spreadsheet = pd.read_csv('./09_data.csv', delimiter = ',',header=None)\n",
    "spreadsheet.head()"
   ]
  },
  {
   "cell_type": "code",
   "execution_count": 3,
   "id": "d11de2c7",
   "metadata": {},
   "outputs": [
    {
     "name": "stdout",
     "output_type": "stream",
     "text": [
      "[ 0.          2.35793224  2.00441646 -0.05511954 -3.92808318  0.        ]\n"
     ]
    }
   ],
   "source": [
    "import numpy as np\n",
    "import pandas as pd\n",
    "from sklearn.linear_model import Lasso\n",
    "\n",
    "# Assign the data to predictor and outcome variables\n",
    "train_data = pd.read_csv('./09_data.csv', header = None)\n",
    "X = train_data.iloc[:,:-1]\n",
    "y = train_data.iloc[:,-1]\n",
    "\n",
    "lasso_reg = Lasso()\n",
    "\n",
    "lasso_reg.fit(X, y)\n",
    "\n",
    "reg_coef = lasso_reg.coef_\n",
    "print(reg_coef)"
   ]
  }
 ],
 "metadata": {
  "kernelspec": {
   "display_name": "Python 3.8.13 ('base')",
   "language": "python",
   "name": "python3"
  },
  "language_info": {
   "codemirror_mode": {
    "name": "ipython",
    "version": 3
   },
   "file_extension": ".py",
   "mimetype": "text/x-python",
   "name": "python",
   "nbconvert_exporter": "python",
   "pygments_lexer": "ipython3",
   "version": "3.8.13"
  },
  "vscode": {
   "interpreter": {
    "hash": "303fa613b6f3e1efefe7bb28036e305e1021fa6bdb083a5f9fd57f9d9bbad8eb"
   }
  }
 },
 "nbformat": 4,
 "nbformat_minor": 5
}
